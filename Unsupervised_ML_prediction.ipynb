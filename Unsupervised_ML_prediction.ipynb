{
  "nbformat": 4,
  "nbformat_minor": 0,
  "metadata": {
    "colab": {
      "name": "Unsupervised ML prediction",
      "provenance": [],
      "collapsed_sections": []
    },
    "kernelspec": {
      "name": "python3",
      "display_name": "Python 3"
    }
  },
  "cells": [
    {
      "cell_type": "markdown",
      "metadata": {
        "id": "nCrsEM-YFlSy"
      },
      "source": [
        "\r\n",
        "*   NAME : RAKSHITA MADHAVAN \r\n",
        "*   DOMAIN : DATA SCIENCE AND BUSINESS ANALYTICS \r\n",
        "*   TASK 2 : PREDICTION USING UNSUPERVISED ML\r\n"
      ]
    },
    {
      "cell_type": "markdown",
      "metadata": {
        "id": "RFWDazGWDW2a"
      },
      "source": [
        "To predict the optimum number of clusters in the Iris dataset and present them visually.\r\n"
      ]
    },
    {
      "cell_type": "code",
      "metadata": {
        "id": "ydO1bF_Yzag7"
      },
      "source": [
        "#importing libraries\r\n",
        "import numpy as np\r\n",
        "import pandas as pd\r\n",
        "import matplotlib.pyplot as plt\r\n",
        "import seaborn as sns\r\n",
        "from sklearn import datasets\r\n",
        "sns.set()\r\n",
        "sns.set_palette(\"husl\",3)\r\n",
        "%matplotlib inline\r\n"
      ],
      "execution_count": 40,
      "outputs": []
    },
    {
      "cell_type": "markdown",
      "metadata": {
        "id": "P0ToG-ZxEFoo"
      },
      "source": [
        "Loading the dataset"
      ]
    },
    {
      "cell_type": "code",
      "metadata": {
        "colab": {
          "base_uri": "https://localhost:8080/",
          "height": 195
        },
        "id": "VzxEkCqJz8vj",
        "outputId": "c3fa222b-1f84-4b19-b1be-a299e757d748"
      },
      "source": [
        "iris = datasets.load_iris()\r\n",
        "df = pd.DataFrame(iris.data, columns = iris.feature_names)\r\n",
        "df.head()"
      ],
      "execution_count": 41,
      "outputs": [
        {
          "output_type": "execute_result",
          "data": {
            "text/html": [
              "<div>\n",
              "<style scoped>\n",
              "    .dataframe tbody tr th:only-of-type {\n",
              "        vertical-align: middle;\n",
              "    }\n",
              "\n",
              "    .dataframe tbody tr th {\n",
              "        vertical-align: top;\n",
              "    }\n",
              "\n",
              "    .dataframe thead th {\n",
              "        text-align: right;\n",
              "    }\n",
              "</style>\n",
              "<table border=\"1\" class=\"dataframe\">\n",
              "  <thead>\n",
              "    <tr style=\"text-align: right;\">\n",
              "      <th></th>\n",
              "      <th>sepal length (cm)</th>\n",
              "      <th>sepal width (cm)</th>\n",
              "      <th>petal length (cm)</th>\n",
              "      <th>petal width (cm)</th>\n",
              "    </tr>\n",
              "  </thead>\n",
              "  <tbody>\n",
              "    <tr>\n",
              "      <th>0</th>\n",
              "      <td>5.1</td>\n",
              "      <td>3.5</td>\n",
              "      <td>1.4</td>\n",
              "      <td>0.2</td>\n",
              "    </tr>\n",
              "    <tr>\n",
              "      <th>1</th>\n",
              "      <td>4.9</td>\n",
              "      <td>3.0</td>\n",
              "      <td>1.4</td>\n",
              "      <td>0.2</td>\n",
              "    </tr>\n",
              "    <tr>\n",
              "      <th>2</th>\n",
              "      <td>4.7</td>\n",
              "      <td>3.2</td>\n",
              "      <td>1.3</td>\n",
              "      <td>0.2</td>\n",
              "    </tr>\n",
              "    <tr>\n",
              "      <th>3</th>\n",
              "      <td>4.6</td>\n",
              "      <td>3.1</td>\n",
              "      <td>1.5</td>\n",
              "      <td>0.2</td>\n",
              "    </tr>\n",
              "    <tr>\n",
              "      <th>4</th>\n",
              "      <td>5.0</td>\n",
              "      <td>3.6</td>\n",
              "      <td>1.4</td>\n",
              "      <td>0.2</td>\n",
              "    </tr>\n",
              "  </tbody>\n",
              "</table>\n",
              "</div>"
            ],
            "text/plain": [
              "   sepal length (cm)  sepal width (cm)  petal length (cm)  petal width (cm)\n",
              "0                5.1               3.5                1.4               0.2\n",
              "1                4.9               3.0                1.4               0.2\n",
              "2                4.7               3.2                1.3               0.2\n",
              "3                4.6               3.1                1.5               0.2\n",
              "4                5.0               3.6                1.4               0.2"
            ]
          },
          "metadata": {
            "tags": []
          },
          "execution_count": 41
        }
      ]
    },
    {
      "cell_type": "code",
      "metadata": {
        "id": "h21oRoLi2zkM",
        "colab": {
          "base_uri": "https://localhost:8080/",
          "height": 195
        },
        "outputId": "9ef8599d-5d6b-4d18-ee1c-209b7922500e"
      },
      "source": [
        "df.tail()"
      ],
      "execution_count": 42,
      "outputs": [
        {
          "output_type": "execute_result",
          "data": {
            "text/html": [
              "<div>\n",
              "<style scoped>\n",
              "    .dataframe tbody tr th:only-of-type {\n",
              "        vertical-align: middle;\n",
              "    }\n",
              "\n",
              "    .dataframe tbody tr th {\n",
              "        vertical-align: top;\n",
              "    }\n",
              "\n",
              "    .dataframe thead th {\n",
              "        text-align: right;\n",
              "    }\n",
              "</style>\n",
              "<table border=\"1\" class=\"dataframe\">\n",
              "  <thead>\n",
              "    <tr style=\"text-align: right;\">\n",
              "      <th></th>\n",
              "      <th>sepal length (cm)</th>\n",
              "      <th>sepal width (cm)</th>\n",
              "      <th>petal length (cm)</th>\n",
              "      <th>petal width (cm)</th>\n",
              "    </tr>\n",
              "  </thead>\n",
              "  <tbody>\n",
              "    <tr>\n",
              "      <th>145</th>\n",
              "      <td>6.7</td>\n",
              "      <td>3.0</td>\n",
              "      <td>5.2</td>\n",
              "      <td>2.3</td>\n",
              "    </tr>\n",
              "    <tr>\n",
              "      <th>146</th>\n",
              "      <td>6.3</td>\n",
              "      <td>2.5</td>\n",
              "      <td>5.0</td>\n",
              "      <td>1.9</td>\n",
              "    </tr>\n",
              "    <tr>\n",
              "      <th>147</th>\n",
              "      <td>6.5</td>\n",
              "      <td>3.0</td>\n",
              "      <td>5.2</td>\n",
              "      <td>2.0</td>\n",
              "    </tr>\n",
              "    <tr>\n",
              "      <th>148</th>\n",
              "      <td>6.2</td>\n",
              "      <td>3.4</td>\n",
              "      <td>5.4</td>\n",
              "      <td>2.3</td>\n",
              "    </tr>\n",
              "    <tr>\n",
              "      <th>149</th>\n",
              "      <td>5.9</td>\n",
              "      <td>3.0</td>\n",
              "      <td>5.1</td>\n",
              "      <td>1.8</td>\n",
              "    </tr>\n",
              "  </tbody>\n",
              "</table>\n",
              "</div>"
            ],
            "text/plain": [
              "     sepal length (cm)  sepal width (cm)  petal length (cm)  petal width (cm)\n",
              "145                6.7               3.0                5.2               2.3\n",
              "146                6.3               2.5                5.0               1.9\n",
              "147                6.5               3.0                5.2               2.0\n",
              "148                6.2               3.4                5.4               2.3\n",
              "149                5.9               3.0                5.1               1.8"
            ]
          },
          "metadata": {
            "tags": []
          },
          "execution_count": 42
        }
      ]
    },
    {
      "cell_type": "code",
      "metadata": {
        "id": "2i_HZt4v23H2",
        "colab": {
          "base_uri": "https://localhost:8080/",
          "height": 284
        },
        "outputId": "4d24efec-be60-437c-d362-86ec2dfe6742"
      },
      "source": [
        "df.describe()"
      ],
      "execution_count": 43,
      "outputs": [
        {
          "output_type": "execute_result",
          "data": {
            "text/html": [
              "<div>\n",
              "<style scoped>\n",
              "    .dataframe tbody tr th:only-of-type {\n",
              "        vertical-align: middle;\n",
              "    }\n",
              "\n",
              "    .dataframe tbody tr th {\n",
              "        vertical-align: top;\n",
              "    }\n",
              "\n",
              "    .dataframe thead th {\n",
              "        text-align: right;\n",
              "    }\n",
              "</style>\n",
              "<table border=\"1\" class=\"dataframe\">\n",
              "  <thead>\n",
              "    <tr style=\"text-align: right;\">\n",
              "      <th></th>\n",
              "      <th>sepal length (cm)</th>\n",
              "      <th>sepal width (cm)</th>\n",
              "      <th>petal length (cm)</th>\n",
              "      <th>petal width (cm)</th>\n",
              "    </tr>\n",
              "  </thead>\n",
              "  <tbody>\n",
              "    <tr>\n",
              "      <th>count</th>\n",
              "      <td>150.000000</td>\n",
              "      <td>150.000000</td>\n",
              "      <td>150.000000</td>\n",
              "      <td>150.000000</td>\n",
              "    </tr>\n",
              "    <tr>\n",
              "      <th>mean</th>\n",
              "      <td>5.843333</td>\n",
              "      <td>3.057333</td>\n",
              "      <td>3.758000</td>\n",
              "      <td>1.199333</td>\n",
              "    </tr>\n",
              "    <tr>\n",
              "      <th>std</th>\n",
              "      <td>0.828066</td>\n",
              "      <td>0.435866</td>\n",
              "      <td>1.765298</td>\n",
              "      <td>0.762238</td>\n",
              "    </tr>\n",
              "    <tr>\n",
              "      <th>min</th>\n",
              "      <td>4.300000</td>\n",
              "      <td>2.000000</td>\n",
              "      <td>1.000000</td>\n",
              "      <td>0.100000</td>\n",
              "    </tr>\n",
              "    <tr>\n",
              "      <th>25%</th>\n",
              "      <td>5.100000</td>\n",
              "      <td>2.800000</td>\n",
              "      <td>1.600000</td>\n",
              "      <td>0.300000</td>\n",
              "    </tr>\n",
              "    <tr>\n",
              "      <th>50%</th>\n",
              "      <td>5.800000</td>\n",
              "      <td>3.000000</td>\n",
              "      <td>4.350000</td>\n",
              "      <td>1.300000</td>\n",
              "    </tr>\n",
              "    <tr>\n",
              "      <th>75%</th>\n",
              "      <td>6.400000</td>\n",
              "      <td>3.300000</td>\n",
              "      <td>5.100000</td>\n",
              "      <td>1.800000</td>\n",
              "    </tr>\n",
              "    <tr>\n",
              "      <th>max</th>\n",
              "      <td>7.900000</td>\n",
              "      <td>4.400000</td>\n",
              "      <td>6.900000</td>\n",
              "      <td>2.500000</td>\n",
              "    </tr>\n",
              "  </tbody>\n",
              "</table>\n",
              "</div>"
            ],
            "text/plain": [
              "       sepal length (cm)  sepal width (cm)  petal length (cm)  petal width (cm)\n",
              "count         150.000000        150.000000         150.000000        150.000000\n",
              "mean            5.843333          3.057333           3.758000          1.199333\n",
              "std             0.828066          0.435866           1.765298          0.762238\n",
              "min             4.300000          2.000000           1.000000          0.100000\n",
              "25%             5.100000          2.800000           1.600000          0.300000\n",
              "50%             5.800000          3.000000           4.350000          1.300000\n",
              "75%             6.400000          3.300000           5.100000          1.800000\n",
              "max             7.900000          4.400000           6.900000          2.500000"
            ]
          },
          "metadata": {
            "tags": []
          },
          "execution_count": 43
        }
      ]
    },
    {
      "cell_type": "code",
      "metadata": {
        "id": "YKtZDoAc29Hj",
        "colab": {
          "base_uri": "https://localhost:8080/"
        },
        "outputId": "e66015f2-60e0-4d5a-ba9a-e2f6cd44fefa"
      },
      "source": [
        "d = pd.DataFrame(df)\r\n",
        "print(d.dtypes)\r\n",
        "print(\"Shape of object : \", d.shape)"
      ],
      "execution_count": 44,
      "outputs": [
        {
          "output_type": "stream",
          "text": [
            "sepal length (cm)    float64\n",
            "sepal width (cm)     float64\n",
            "petal length (cm)    float64\n",
            "petal width (cm)     float64\n",
            "dtype: object\n",
            "Shape of object :  (150, 4)\n"
          ],
          "name": "stdout"
        }
      ]
    },
    {
      "cell_type": "code",
      "metadata": {
        "id": "2EnCJNsy4APK",
        "colab": {
          "base_uri": "https://localhost:8080/",
          "height": 166
        },
        "outputId": "07c495f4-1409-4a88-b606-c52d3078e783"
      },
      "source": [
        "d.isnull().sum()\r\n",
        "corr = d.corr()\r\n",
        "corr"
      ],
      "execution_count": 45,
      "outputs": [
        {
          "output_type": "execute_result",
          "data": {
            "text/html": [
              "<div>\n",
              "<style scoped>\n",
              "    .dataframe tbody tr th:only-of-type {\n",
              "        vertical-align: middle;\n",
              "    }\n",
              "\n",
              "    .dataframe tbody tr th {\n",
              "        vertical-align: top;\n",
              "    }\n",
              "\n",
              "    .dataframe thead th {\n",
              "        text-align: right;\n",
              "    }\n",
              "</style>\n",
              "<table border=\"1\" class=\"dataframe\">\n",
              "  <thead>\n",
              "    <tr style=\"text-align: right;\">\n",
              "      <th></th>\n",
              "      <th>sepal length (cm)</th>\n",
              "      <th>sepal width (cm)</th>\n",
              "      <th>petal length (cm)</th>\n",
              "      <th>petal width (cm)</th>\n",
              "    </tr>\n",
              "  </thead>\n",
              "  <tbody>\n",
              "    <tr>\n",
              "      <th>sepal length (cm)</th>\n",
              "      <td>1.000000</td>\n",
              "      <td>-0.117570</td>\n",
              "      <td>0.871754</td>\n",
              "      <td>0.817941</td>\n",
              "    </tr>\n",
              "    <tr>\n",
              "      <th>sepal width (cm)</th>\n",
              "      <td>-0.117570</td>\n",
              "      <td>1.000000</td>\n",
              "      <td>-0.428440</td>\n",
              "      <td>-0.366126</td>\n",
              "    </tr>\n",
              "    <tr>\n",
              "      <th>petal length (cm)</th>\n",
              "      <td>0.871754</td>\n",
              "      <td>-0.428440</td>\n",
              "      <td>1.000000</td>\n",
              "      <td>0.962865</td>\n",
              "    </tr>\n",
              "    <tr>\n",
              "      <th>petal width (cm)</th>\n",
              "      <td>0.817941</td>\n",
              "      <td>-0.366126</td>\n",
              "      <td>0.962865</td>\n",
              "      <td>1.000000</td>\n",
              "    </tr>\n",
              "  </tbody>\n",
              "</table>\n",
              "</div>"
            ],
            "text/plain": [
              "                   sepal length (cm)  ...  petal width (cm)\n",
              "sepal length (cm)           1.000000  ...          0.817941\n",
              "sepal width (cm)           -0.117570  ...         -0.366126\n",
              "petal length (cm)           0.871754  ...          0.962865\n",
              "petal width (cm)            0.817941  ...          1.000000\n",
              "\n",
              "[4 rows x 4 columns]"
            ]
          },
          "metadata": {
            "tags": []
          },
          "execution_count": 45
        }
      ]
    },
    {
      "cell_type": "code",
      "metadata": {
        "id": "pFo9NfgUr6le",
        "colab": {
          "base_uri": "https://localhost:8080/",
          "height": 376
        },
        "outputId": "23fed607-220f-4610-c005-dfb8c4749416"
      },
      "source": [
        "#data visualisation\r\n",
        "\r\n",
        "sns.heatmap(corr, annot = True, cmap=\"RdBu\" )\r\n"
      ],
      "execution_count": 46,
      "outputs": [
        {
          "output_type": "execute_result",
          "data": {
            "text/plain": [
              "<matplotlib.axes._subplots.AxesSubplot at 0x7f46c15bef98>"
            ]
          },
          "metadata": {
            "tags": []
          },
          "execution_count": 46
        },
        {
          "output_type": "display_data",
          "data": {
            "image/png": "[encoded data removed]",
            "text/plain": [
              "<Figure size 432x288 with 2 Axes>"
            ]
          },
          "metadata": {
            "tags": [],
            "needs_background": "light"
          }
        }
      ]
    },
    {
      "cell_type": "code",
      "metadata": {
        "colab": {
          "base_uri": "https://localhost:8080/",
          "height": 582
        },
        "id": "WxvPmU6HIoHx",
        "outputId": "af3bf67e-7f98-492d-ca9a-458192b14a6f"
      },
      "source": [
        "plt.scatter(d['sepal length (cm)'], d['sepal width (cm)'])\r\n",
        "plt.xlabel('Sepal Length', fontsize = 18)\r\n",
        "plt.ylabel('Sepal Width', fontsize = 18)\r\n",
        "plt.show()\r\n",
        "print()\r\n",
        "plt.scatter(d['petal length (cm)'], d['petal width (cm)'])\r\n",
        "plt.xlabel('Petal Length', fontsize = 18)\r\n",
        "plt.ylabel('Petal Width', fontsize = 18)\r\n",
        "plt.show()"
      ],
      "execution_count": 47,
      "outputs": [
        {
          "output_type": "display_data",
          "data": {
            "image/png": "[encoded data removed]",
            "text/plain": [
              "<Figure size 432x288 with 1 Axes>"
            ]
          },
          "metadata": {
            "tags": [],
            "needs_background": "light"
          }
        },
        {
          "output_type": "stream",
          "text": [
            "\n"
          ],
          "name": "stdout"
        },
        {
          "output_type": "display_data",
          "data": {
            "image/png": "[encoded data removed]",
            "text/plain": [
              "<Figure size 432x288 with 1 Axes>"
            ]
          },
          "metadata": {
            "tags": [],
            "needs_background": "light"
          }
        }
      ]
    },
    {
      "cell_type": "markdown",
      "metadata": {
        "id": "kwWFYooG8qOc"
      },
      "source": [
        "Finding the optimum number of clusters for K-Means and determining the value of K."
      ]
    },
    {
      "cell_type": "code",
      "metadata": {
        "colab": {
          "base_uri": "https://localhost:8080/",
          "height": 301
        },
        "id": "QN7dpCgw7WLq",
        "outputId": "6081a29d-f890-4dd4-d80d-c2f53605b448"
      },
      "source": [
        "#k-means\r\n",
        "\r\n",
        "x = d.iloc[:,[0,1,2,3]].values\r\n",
        "\r\n",
        "from sklearn.cluster import KMeans\r\n",
        "wcss = []\r\n",
        "\r\n",
        "for i in range(1, 11):\r\n",
        "    kmeans = KMeans(n_clusters = i, init = 'k-means++', \r\n",
        "                    max_iter = 300, n_init = 10, random_state = 0)\r\n",
        "    kmeans.fit(x)\r\n",
        "    wcss.append(kmeans.inertia_)\r\n",
        "    \r\n",
        "# Plotting the results onto a line graph,allowing us to observe 'The elbow'\r\n",
        "plt.plot(range(1, 11), wcss)\r\n",
        "plt.title('The elbow method')\r\n",
        "plt.xlabel('Number of clusters')\r\n",
        "plt.ylabel('WCSS') # Within cluster sum of squares\r\n",
        "plt.show()"
      ],
      "execution_count": 48,
      "outputs": [
        {
          "output_type": "display_data",
          "data": {
            "image/png": "[encoded data removed]",
            "text/plain": [
              "<Figure size 432x288 with 1 Axes>"
            ]
          },
          "metadata": {
            "tags": [],
            "needs_background": "light"
          }
        }
      ]
    },
    {
      "cell_type": "markdown",
      "metadata": {
        "id": "CQy6eEAp8NK2"
      },
      "source": [
        "You can clearly see why it is called 'The elbow method' from the above graph, the optimum clusters is where the elbow occurs.\r\n",
        "\r\n",
        "From this it is quite evident that the number of clusters = 3."
      ]
    },
    {
      "cell_type": "markdown",
      "metadata": {
        "id": "PT7smn_8Evzx"
      },
      "source": [
        "Applying K-means"
      ]
    },
    {
      "cell_type": "code",
      "metadata": {
        "id": "mPx3eERQ8QUa"
      },
      "source": [
        "\r\n",
        "kmeans = KMeans(n_clusters = 3, init = 'k-means++',\r\n",
        "                max_iter = 300, n_init = 10, random_state = 0)\r\n",
        "y_kmeans = kmeans.fit_predict(x)"
      ],
      "execution_count": 49,
      "outputs": []
    },
    {
      "cell_type": "markdown",
      "metadata": {
        "id": "VMbAIBK4E1sg"
      },
      "source": [
        "Visualising the clusters"
      ]
    },
    {
      "cell_type": "code",
      "metadata": {
        "colab": {
          "base_uri": "https://localhost:8080/",
          "height": 287
        },
        "id": "YAtWjPug8YNE",
        "outputId": "272b131f-9b6b-4de8-c45b-0c937918b46f"
      },
      "source": [
        "plt.scatter(x[y_kmeans == 0, 0], x[y_kmeans == 0, 1], \r\n",
        "            s = 100, c = 'red', label = 'Iris-sentosa')\r\n",
        "plt.scatter(x[y_kmeans == 1, 0], x[y_kmeans == 1, 1], \r\n",
        "            s = 100, c = 'blue', label = 'Iris-versicolour')\r\n",
        "plt.scatter(x[y_kmeans == 2, 0], x[y_kmeans == 2, 1],\r\n",
        "            s = 100, c = 'green', label = 'Iris-virginica')\r\n",
        "\r\n",
        "# Plotting the centroids of the clusters\r\n",
        "plt.scatter(kmeans.cluster_centers_[:, 0], kmeans.cluster_centers_[:,1], \r\n",
        "            s = 100, c = 'yellow', label = 'Centroids')\r\n",
        "\r\n",
        "plt.legend()"
      ],
      "execution_count": 50,
      "outputs": [
        {
          "output_type": "execute_result",
          "data": {
            "text/plain": [
              "<matplotlib.legend.Legend at 0x7f46c13c9748>"
            ]
          },
          "metadata": {
            "tags": []
          },
          "execution_count": 50
        },
        {
          "output_type": "display_data",
          "data": {
            "image/png": "[encoded data removed]",
            "text/plain": [
              "<Figure size 432x288 with 1 Axes>"
            ]
          },
          "metadata": {
            "tags": [],
            "needs_background": "light"
          }
        }
      ]
    },
    {
      "cell_type": "code",
      "metadata": {
        "colab": {
          "base_uri": "https://localhost:8080/",
          "height": 285
        },
        "id": "eoGRK0FnHIKj",
        "outputId": "b480377e-f459-4b2d-f156-f77a8a586dca"
      },
      "source": [
        "plt.scatter(x[y_kmeans == 0, 0], x[y_kmeans == 0, 1], \r\n",
        "            s = 100, c = 'red', label = 'Iris-sentosa')\r\n",
        "plt.scatter(x[y_kmeans == 1, 0], x[y_kmeans == 1, 1], \r\n",
        "            s = 100, c = 'blue', label = 'Iris-versicolour')\r\n",
        "plt.scatter(x[y_kmeans == 2, 0], x[y_kmeans == 2, 1],\r\n",
        "            s = 100, c = 'green', label = 'Iris-virginica')\r\n",
        "\r\n",
        "# Plotting the centroids of the clusters\r\n",
        "plt.scatter(kmeans.cluster_centers_[:, 1], kmeans.cluster_centers_[:,2], \r\n",
        "            s = 100, c = 'yellow', label = 'Centroids')\r\n",
        "\r\n",
        "plt.legend()"
      ],
      "execution_count": 51,
      "outputs": [
        {
          "output_type": "execute_result",
          "data": {
            "text/plain": [
              "<matplotlib.legend.Legend at 0x7f46c1342898>"
            ]
          },
          "metadata": {
            "tags": []
          },
          "execution_count": 51
        },
        {
          "output_type": "display_data",
          "data": {
            "image/png": "[encoded data removed]",
            "text/plain": [
              "<Figure size 432x288 with 1 Axes>"
            ]
          },
          "metadata": {
            "tags": [],
            "needs_background": "light"
          }
        }
      ]
    },
    {
      "cell_type": "code",
      "metadata": {
        "colab": {
          "base_uri": "https://localhost:8080/",
          "height": 285
        },
        "id": "Inwcn1reHX7K",
        "outputId": "c23589d4-3f84-453a-8e59-240917dfd6c3"
      },
      "source": [
        "plt.scatter(x[y_kmeans == 0, 0], x[y_kmeans == 0, 1], \r\n",
        "            s = 100, c = 'red', label = 'Iris-sentosa')\r\n",
        "plt.scatter(x[y_kmeans == 1, 0], x[y_kmeans == 1, 1], \r\n",
        "            s = 100, c = 'blue', label = 'Iris-versicolour')\r\n",
        "plt.scatter(x[y_kmeans == 2, 0], x[y_kmeans == 2, 1],\r\n",
        "            s = 100, c = 'green', label = 'Iris-virginica')\r\n",
        "\r\n",
        "# Plotting the centroids of the clusters\r\n",
        "plt.scatter(kmeans.cluster_centers_[:,2], kmeans.cluster_centers_[:,3], \r\n",
        "            s = 100, c = 'yellow', label = 'Centroids')\r\n",
        "\r\n",
        "plt.legend()"
      ],
      "execution_count": 52,
      "outputs": [
        {
          "output_type": "execute_result",
          "data": {
            "text/plain": [
              "<matplotlib.legend.Legend at 0x7f46c12a8e10>"
            ]
          },
          "metadata": {
            "tags": []
          },
          "execution_count": 52
        },
        {
          "output_type": "display_data",
          "data": {
            "image/png": "[encoded data removed]",
            "text/plain": [
              "<Figure size 432x288 with 1 Axes>"
            ]
          },
          "metadata": {
            "tags": [],
            "needs_background": "light"
          }
        }
      ]
    },
    {
      "cell_type": "markdown",
      "metadata": {
        "id": "G-t2PoWYFZHm"
      },
      "source": [
        "Optimum number of clusters : 3"
      ]
    }
  ]
}